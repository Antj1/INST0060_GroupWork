{
 "cells": [
  {
   "cell_type": "code",
   "execution_count": 1,
   "metadata": {},
   "outputs": [],
   "source": [
    "import pandas as pd\n",
    "import matplotlib.pyplot as plt\n",
    "import numpy as np\n",
    "import scipy as sc\n",
    "from time import process_time"
   ]
  },
  {
   "cell_type": "code",
   "execution_count": 2,
   "metadata": {},
   "outputs": [],
   "source": [
    "from fomlads.model.classification import logistic_regression_fit\n",
    "from fomlads.model.classification import logistic_regression_predict"
   ]
  },
  {
   "cell_type": "code",
   "execution_count": 3,
   "metadata": {},
   "outputs": [],
   "source": [
    "from processing import processing\n",
    "from processing import derived_rep\n",
    "from processing import feature_mapping\n",
    "from processing import accuracy_score\n",
    "from processing import dframe_train_test_input_target\n",
    "from processing import scalar_funct"
   ]
  },
  {
   "cell_type": "code",
   "execution_count": 4,
   "metadata": {},
   "outputs": [],
   "source": [
    "from models import cross_validation_LR\n",
    "from models import evaluate_cv_LR\n",
    "from models import LR_lambda_cv\n",
    "from models import LR_test_funct"
   ]
  },
  {
   "cell_type": "code",
   "execution_count": 5,
   "metadata": {},
   "outputs": [],
   "source": [
    "from evaluation import classificationreport\n",
    "from evaluation import confusion_matrix"
   ]
  },
  {
   "cell_type": "code",
   "execution_count": 6,
   "metadata": {},
   "outputs": [],
   "source": [
    "def main():\n",
    "    RED , WHITE = processing(ifname = \"red\")\n",
    "    WHITE_DF = derived_rep(WHITE,141,1)\n",
    "    RED_DF = derived_rep(RED,141,1)\n",
    "    \n",
    "    FM_WHITE = feature_mapping(WHITE_DF)\n",
    "    FM_RED = feature_mapping(RED_DF)\n",
    "    \n",
    "    W_validation_inputs,W_validation_targets,W_test_inputs,W_test_targets = dframe_train_test_input_target(FM_WHITE,0.2)#W stands for white\n",
    "\n",
    "    R_validation_inputs,R_validation_targets,R_test_inputs,R_test_targets = dframe_train_test_input_target(FM_RED,0.2) #R stands for Red\n",
    "    #SVM\n",
    "    \n",
    "    #Random Forest\n",
    "    \n",
    "    #LOGISTIC REGRESSION \n",
    "    print(\"Running Logistic regression experiments\")\n",
    "    scalar_funct(W_validation_inputs)\n",
    "    scalar_funct(W_test_inputs)\n",
    "    scalar_funct(R_validation_inputs)\n",
    "    scalar_funct(R_test_inputs)\n",
    "    \n",
    "    \n",
    "    LR_lambda_cv(W_validation_inputs,W_validation_targets,W_test_inputs,W_test_targets,wine_type='white wine',lambda_list = np.logspace(-4,-1,10))\n",
    "    LR_lambda_cv(R_validation_inputs,R_validation_targets,R_test_inputs,R_test_targets,wine_type='red wine',lambda_list = np.logspace(-4,-1,10))"
   ]
  },
  {
   "cell_type": "code",
   "execution_count": 7,
   "metadata": {},
   "outputs": [
    {
     "name": "stdout",
     "output_type": "stream",
     "text": [
      "Best parameter(lambda) for logistic regression for white wine on validation data is 0.001\n",
      "Best accuracy score for logistic regression for white wine on validation data is 0.7155893536121674\n",
      "\n",
      "Now running logistic regression on test data with best parameters ...\n",
      "\n",
      " Classification Report for white wine on test data \n",
      "\n",
      "\n",
      "Precison is: 0.6698\n",
      "Recall is: 0.5534\n",
      "F1_Score is: 0.6061\n",
      "Accuracy is: 0.7177\n",
      "\n",
      " Confusion matrix for white wine on test data \n",
      "\n",
      "[[430 347]\n",
      " [212 991]]\n",
      "Best parameter(lambda) for logistic regression for red wine on validation data is 0.007742636826811269\n",
      "Best accuracy score for logistic regression for red wine on validation data is 0.7730038022813689\n",
      "\n",
      "Now running logistic regression on test data with best parameters ...\n",
      "\n",
      " Classification Report for red wine on test data \n",
      "\n",
      "\n",
      "Precison is: 0.7184\n",
      "Recall is: 0.5285\n",
      "F1_Score is: 0.6090\n",
      "Accuracy is: 0.7899\n",
      "\n",
      " Confusion matrix for red wine on test data \n",
      "\n",
      "[[ 324  289]\n",
      " [ 127 1240]]\n"
     ]
    },
    {
     "data": {
      "image/png": "[encoded data removed]",
      "text/plain": [
       "<Figure size 432x288 with 1 Axes>"
      ]
     },
     "metadata": {
      "needs_background": "light"
     },
     "output_type": "display_data"
    }
   ],
   "source": [
    "main()"
   ]
  },
  {
   "cell_type": "code",
   "execution_count": null,
   "metadata": {},
   "outputs": [],
   "source": []
  }
 ],
 "metadata": {
  "kernelspec": {
   "display_name": "Python 3",
   "language": "python",
   "name": "python3"
  },
  "language_info": {
   "codemirror_mode": {
    "name": "ipython",
    "version": 3
   },
   "file_extension": ".py",
   "mimetype": "text/x-python",
   "name": "python",
   "nbconvert_exporter": "python",
   "pygments_lexer": "ipython3",
   "version": "3.7.4"
  }
 },
 "nbformat": 4,
 "nbformat_minor": 2
}
